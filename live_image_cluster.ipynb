{
 "cells": [
  {
   "cell_type": "code",
   "execution_count": 2,
   "metadata": {},
   "outputs": [],
   "source": [
    "import cv2\n",
    "import numpy as np"
   ]
  },
  {
   "cell_type": "code",
   "execution_count": 3,
   "metadata": {},
   "outputs": [],
   "source": [
    "cap = cv2.VideoCapture(0)\n",
    "k = 5"
   ]
  },
  {
   "cell_type": "code",
   "execution_count": 4,
   "metadata": {},
   "outputs": [],
   "source": [
    "# define stopping criteria\n",
    "criteria = (cv2.TERM_CRITERIA_EPS + cv2.TERM_CRITERIA_MAX_ITER, 100, 0.2)"
   ]
  },
  {
   "cell_type": "code",
   "execution_count": 5,
   "metadata": {},
   "outputs": [],
   "source": [
    "while True:\n",
    "    # read the image\n",
    "    _, image = cap.read()\n",
    "\n",
    "    # reshape the image to a 2D array of pixels and 3 color values (RGB)\n",
    "    pixel_values = image.reshape((-1, 3))\n",
    "    # convert to float\n",
    "    pixel_values = np.float32(pixel_values)\n",
    "\n",
    "    # number of clusters (K)\n",
    "    _, labels, (centers) = cv2.kmeans(pixel_values, k, None, criteria, 10, cv2.KMEANS_RANDOM_CENTERS)\n",
    "\n",
    "    # convert back to 8 bit values\n",
    "    centers = np.uint8(centers)\n",
    "\n",
    "    # convert all pixels to the color of the centroids\n",
    "    segmented_image = centers[labels.flatten()]\n",
    "\n",
    "    # reshape back to the original image dimension\n",
    "    segmented_image = segmented_image.reshape(image.shape)\n",
    "\n",
    "    # reshape labels too\n",
    "    labels = labels.reshape(image.shape[0], image.shape[1])\n",
    "\n",
    "    cv2.imshow(\"segmented_image\", segmented_image)\n",
    "    # visualize each segment\n",
    "\n",
    "    if cv2.waitKey(1) == ord(\"q\"):\n",
    "        break\n",
    "\n",
    "cap.release()\n",
    "cv2.destroyAllWindows()"
   ]
  },
  {
   "cell_type": "code",
   "execution_count": null,
   "metadata": {},
   "outputs": [],
   "source": []
  }
 ],
 "metadata": {
  "kernelspec": {
   "display_name": "Python 3",
   "language": "python",
   "name": "python3"
  },
  "language_info": {
   "codemirror_mode": {
    "name": "ipython",
    "version": 3
   },
   "file_extension": ".py",
   "mimetype": "text/x-python",
   "name": "python",
   "nbconvert_exporter": "python",
   "pygments_lexer": "ipython3",
   "version": "3.7.1"
  }
 },
 "nbformat": 4,
 "nbformat_minor": 4
}
